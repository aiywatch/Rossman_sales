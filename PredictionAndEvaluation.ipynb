{
 "cells": [
  {
   "cell_type": "code",
   "execution_count": 145,
   "metadata": {},
   "outputs": [],
   "source": [
    "import pandas as pd\n",
    "import numpy as np\n",
    "from sklearn.model_selection import train_test_split\n",
    "import matplotlib.pyplot as plt\n",
    "import calendar"
   ]
  },
  {
   "cell_type": "code",
   "execution_count": 146,
   "metadata": {},
   "outputs": [],
   "source": [
    "#set display format of output from pandas\n",
    "pd.set_option('display.float_format', lambda x: '%.6f' % x)\n",
    "#extend chunksize for somes scatter plot\n",
    "plt.rcParams['agg.path.chunksize'] = 10000"
   ]
  },
  {
   "cell_type": "code",
   "execution_count": 197,
   "metadata": {},
   "outputs": [],
   "source": [
    "data_types = {\n",
    "         'Id': np.dtype(int),\n",
    "         'Store': np.dtype(int),\n",
    "         'DayOfWeek': 'category',\n",
    "         #'Date': np.dtype(str), # we will parse it later\n",
    "         'Sales': np.dtype(int),\n",
    "         'Customers': np.dtype(int),\n",
    "         'Open': 'category',\n",
    "         'Promo': 'category',\n",
    "         'StateHoliday': np.dtype(str),\n",
    "         'SchoolHoliday': np.dtype(str)\n",
    "         }\n",
    "\n",
    "store_data_types = {\n",
    "         'Store': np.dtype(int),\n",
    "         'StoreType': np.dtype(str),\n",
    "         'Assortment': np.dtype(str),\n",
    "         'CompetitionDistance': np.dtype('float64'), # to prevent parsing null value\n",
    "         'CompetitionOpenSinceMonth': np.dtype(str),\n",
    "         'CompetitionOpenSinceYear': np.dtype(str),\n",
    "         'Promo2': 'category',\n",
    "         'Promo2SinceWeek': np.dtype(str),\n",
    "         'Promo2SinceYear': np.dtype(str),\n",
    "         'PromoInterval': np.dtype(str)\n",
    "        }\n",
    "\n",
    "train = pd.read_csv('input/train.csv', parse_dates=[2], dtype=data_types)\n",
    "test = pd.read_csv('input/test.csv', parse_dates=[3], dtype=data_types)\n",
    "store = pd.read_csv('input/store.csv', dtype=store_data_types)"
   ]
  },
  {
   "cell_type": "markdown",
   "metadata": {},
   "source": [
    "## Data preparing"
   ]
  },
  {
   "cell_type": "code",
   "execution_count": 148,
   "metadata": {},
   "outputs": [],
   "source": [
    "# train data\n",
    "# remove the row that shops are closed\n",
    "train = train[train[\"Open\"] != '0']"
   ]
  },
  {
   "cell_type": "code",
   "execution_count": 149,
   "metadata": {},
   "outputs": [],
   "source": [
    "# Merge with store data\n",
    "train = pd.merge(train, store, on='Store')"
   ]
  },
  {
   "cell_type": "code",
   "execution_count": 150,
   "metadata": {},
   "outputs": [],
   "source": [
    "# Add is Competition\n",
    "# This feature is to check that on the day of sales on each store will have the competition store openned or not.\n",
    "\n",
    "SalesAndCompetition = train[['Date','CompetitionOpenSinceYear','CompetitionOpenSinceMonth']]\n",
    "SalesAndCompetition = SalesAndCompetition.fillna({'CompetitionOpenSinceYear': '9999', 'CompetitionOpenSinceMonth': '99'})\n",
    "train['isCompetition'] = np.where((SalesAndCompetition.Date.dt.year >= SalesAndCompetition['CompetitionOpenSinceYear'].astype(int)) &\n",
    "                                                (SalesAndCompetition.Date.dt.month >= SalesAndCompetition['CompetitionOpenSinceMonth'].astype(int)), '1', '0')\n"
   ]
  },
  {
   "cell_type": "code",
   "execution_count": 151,
   "metadata": {},
   "outputs": [],
   "source": [
    "# Add is Promo2\n",
    "# This feature is to check that on the day of sales on each store will adapt the promotion in that month or not.\n",
    "\n",
    "SalesAndPromo2 = train[['Date','Promo2','Promo2SinceWeek','Promo2SinceYear', 'PromoInterval']]\n",
    "SalesAndPromo2 = SalesAndPromo2.fillna({'Promo2SinceYear': '9999', 'Promo2SinceWeek': '99', 'PromoInterval': 'None'})\n",
    "train['isPromo2'] = np.where((SalesAndPromo2.Date.dt.year >= SalesAndPromo2['Promo2SinceYear'].astype(int)) &\n",
    "                             (SalesAndPromo2.Date.dt.week >= SalesAndPromo2['Promo2SinceWeek'].astype(int))\n",
    "                             , '1', '0')\n",
    "train['isPromo2'] = train.apply(lambda x: '1' if x.isPromo2 != '0' and calendar.month_abbr[x.Date.month] in x.PromoInterval else '0', axis=1)\n",
    "\n"
   ]
  },
  {
   "cell_type": "code",
   "execution_count": 152,
   "metadata": {},
   "outputs": [],
   "source": [
    "# Extract Year Month Day and WeekOfYear\n",
    "\n",
    "train['Year'] = train.Date.dt.year\n",
    "train['Month'] = train.Date.dt.month\n",
    "train['Day'] = train.Date.dt.day\n",
    "train['WeekOfYear'] = train.Date.dt.weekofyear"
   ]
  },
  {
   "cell_type": "code",
   "execution_count": 153,
   "metadata": {},
   "outputs": [],
   "source": [
    "# Transform category values to be integer value\n",
    "\n",
    "train.loc[train['StateHoliday'] == 'a', 'StateHoliday'] = '1'\n",
    "train.loc[train['StateHoliday'] == 'b', 'StateHoliday'] = '2'\n",
    "train.loc[train['StateHoliday'] == 'c', 'StateHoliday'] = '3'\n",
    "train['StateHoliday'] = train['StateHoliday'].astype(int)"
   ]
  },
  {
   "cell_type": "code",
   "execution_count": 154,
   "metadata": {},
   "outputs": [],
   "source": [
    "# Transform category values to be integer value\n",
    "\n",
    "train.loc[train['StoreType'] == 'a', 'StoreType'] = '1'\n",
    "train.loc[train['StoreType'] == 'b', 'StoreType'] = '2'\n",
    "train.loc[train['StoreType'] == 'c', 'StoreType'] = '3'\n",
    "train.loc[train['StoreType'] == 'd', 'StoreType'] = '4'\n",
    "train['StoreType'] = train['StoreType'].astype(int)"
   ]
  },
  {
   "cell_type": "code",
   "execution_count": 155,
   "metadata": {},
   "outputs": [],
   "source": [
    "# Transform category values to be integer value\n",
    "\n",
    "train.loc[train['Assortment'] == 'a', 'Assortment'] = '1'\n",
    "train.loc[train['Assortment'] == 'b', 'Assortment'] = '2'\n",
    "train.loc[train['Assortment'] == 'c', 'Assortment'] = '3'\n",
    "train['Assortment'] = train['Assortment'].astype(int)"
   ]
  },
  {
   "cell_type": "code",
   "execution_count": 156,
   "metadata": {},
   "outputs": [],
   "source": [
    "# Some stores do not have competition so we will replace null value with 0 \n",
    "\n",
    "train.CompetitionDistance.fillna(0, inplace=True)"
   ]
  },
  {
   "cell_type": "markdown",
   "metadata": {},
   "source": [
    "## Model evaluation function"
   ]
  },
  {
   "cell_type": "code",
   "execution_count": 157,
   "metadata": {},
   "outputs": [],
   "source": [
    "# init function RMSPE for evaluation the accuracy\n",
    "def rmspe(yhat, y):\n",
    "    w = ToWeight(y)\n",
    "    rmspe = np.sqrt(np.mean( w * (y - yhat)**2 ))\n",
    "    return rmspe\n",
    "def ToWeight(y):\n",
    "    w = np.zeros(y.shape, dtype=float)\n",
    "    ind = y != 0\n",
    "    w[ind] = 1./(y[ind]**2)\n",
    "    return w"
   ]
  },
  {
   "cell_type": "markdown",
   "metadata": {},
   "source": [
    "## Model training with all features"
   ]
  },
  {
   "cell_type": "code",
   "execution_count": 158,
   "metadata": {},
   "outputs": [],
   "source": [
    "# Select all important features.\n",
    "train2 = train[train[\"Open\"] != 0]\n",
    "pre_train = train2[(train['Date'].dt.year <= 2015) & (train['Date'].dt.month < 7)]\n",
    "pre_test = train2[(train['Date'].dt.year >= 2015) & (train['Date'].dt.month >= 7)]\n",
    "\n",
    "X_train = pre_train[['Store', 'DayOfWeek', 'Promo', 'StateHoliday', 'SchoolHoliday', 'StoreType',\n",
    "                    'Assortment', 'CompetitionDistance', 'isCompetition', 'isPromo2', 'Year', 'Month', 'Day', 'WeekOfYear']]\n",
    "X_test = pre_test[['Store', 'DayOfWeek', 'Promo', 'StateHoliday', 'SchoolHoliday', 'StoreType',\n",
    "                    'Assortment', 'CompetitionDistance', 'isCompetition', 'isPromo2', 'Year', 'Month', 'Day', 'WeekOfYear']]\n",
    "\n",
    "y_train = pre_train[['Sales']]\n",
    "y_test = pre_test[['Sales']]\n",
    "\n",
    "#X_train, X_test, y_train, y_test = train_test_split(train_data, train_target, test_size=0.2, random_state=0)\n"
   ]
  },
  {
   "cell_type": "markdown",
   "metadata": {},
   "source": [
    "## Linear regression"
   ]
  },
  {
   "cell_type": "code",
   "execution_count": 159,
   "metadata": {},
   "outputs": [],
   "source": [
    "from sklearn import linear_model\n",
    "from sklearn.pipeline import Pipeline\n",
    "from sklearn.preprocessing import PolynomialFeatures\n",
    "from sklearn.linear_model import LinearRegression, Ridge, Lasso, ElasticNet"
   ]
  },
  {
   "cell_type": "code",
   "execution_count": 160,
   "metadata": {},
   "outputs": [
    {
     "data": {
      "text/plain": [
       "0.35868801489314656"
      ]
     },
     "execution_count": 160,
     "metadata": {},
     "output_type": "execute_result"
    }
   ],
   "source": [
    "# The Polynomial linear model with degree = 1 is the same as simple linear regression\n",
    "\n",
    "polynomial_features = PolynomialFeatures(degree=1,\n",
    "                                             include_bias=False)\n",
    "linear_regression = LinearRegression()\n",
    "pipeline = Pipeline([(\"polynomial_features\", polynomial_features),\n",
    "                     (\"linear_regression\", linear_regression)])\n",
    "pipeline.fit(X_train, y_train.values.ravel())\n",
    "\n",
    "y_pred = pipeline.predict(X_test)\n",
    "\n",
    "rmspe(y_test.values.ravel(), y_pred)"
   ]
  },
  {
   "cell_type": "code",
   "execution_count": 161,
   "metadata": {},
   "outputs": [
    {
     "data": {
      "text/plain": [
       "0.3495038608333047"
      ]
     },
     "execution_count": 161,
     "metadata": {},
     "output_type": "execute_result"
    }
   ],
   "source": [
    "# The Polynomial linear model with degree = 2\n",
    "polynomial_features = PolynomialFeatures(degree=2,\n",
    "                                             include_bias=False)\n",
    "linear_regression = LinearRegression()\n",
    "pipeline = Pipeline([(\"polynomial_features\", polynomial_features),\n",
    "                     (\"linear_regression\", linear_regression)])\n",
    "pipeline.fit(X_train, y_train.values.ravel())\n",
    "\n",
    "y_pred = pipeline.predict(X_test)\n",
    "\n",
    "rmspe(y_test.values.ravel(), y_pred)"
   ]
  },
  {
   "cell_type": "code",
   "execution_count": 162,
   "metadata": {},
   "outputs": [
    {
     "data": {
      "text/plain": [
       "0.7251150776212459"
      ]
     },
     "execution_count": 162,
     "metadata": {},
     "output_type": "execute_result"
    }
   ],
   "source": [
    "# The Polynomial linear model with degree = 3\n",
    "polynomial_features = PolynomialFeatures(degree=3,\n",
    "                                             include_bias=False)\n",
    "linear_regression = LinearRegression()\n",
    "pipeline = Pipeline([(\"polynomial_features\", polynomial_features),\n",
    "                     (\"linear_regression\", linear_regression)])\n",
    "pipeline.fit(X_train, y_train.values.ravel())\n",
    "\n",
    "y_pred = pipeline.predict(X_test)\n",
    "\n",
    "rmspe(y_test.values.ravel(), y_pred)"
   ]
  },
  {
   "cell_type": "code",
   "execution_count": 163,
   "metadata": {},
   "outputs": [
    {
     "data": {
      "text/plain": [
       "0.3586877853374594"
      ]
     },
     "execution_count": 163,
     "metadata": {},
     "output_type": "execute_result"
    }
   ],
   "source": [
    "# Ridge Regression with alpha 0.05\n",
    "\n",
    "ridge_reg_05 = Ridge(alpha=0.05, normalize=False)\n",
    "ridge_reg_05.fit(X_train, y_train.values.ravel())\n",
    "\n",
    "y_pred = ridge_reg_05.predict(X_test)\n",
    "\n",
    "rmspe(y_test.values.ravel(), y_pred)"
   ]
  },
  {
   "cell_type": "code",
   "execution_count": 164,
   "metadata": {},
   "outputs": [
    {
     "data": {
      "text/plain": [
       "0.3586834431323611"
      ]
     },
     "execution_count": 164,
     "metadata": {},
     "output_type": "execute_result"
    }
   ],
   "source": [
    "# Ridge Regression with alpha 1\n",
    "\n",
    "ridge_reg_1 = Ridge(alpha=1, normalize=False)\n",
    "ridge_reg_1.fit(X_train, y_train.values.ravel())\n",
    "\n",
    "y_pred = ridge_reg_1.predict(X_test)\n",
    "\n",
    "rmspe(y_test.values.ravel(), y_pred)"
   ]
  },
  {
   "cell_type": "code",
   "execution_count": 165,
   "metadata": {},
   "outputs": [
    {
     "data": {
      "text/plain": [
       "0.4115152261642876"
      ]
     },
     "execution_count": 165,
     "metadata": {},
     "output_type": "execute_result"
    }
   ],
   "source": [
    "# Ridge Regression with alpha 10\n",
    "\n",
    "ridge_reg_10 = Ridge(alpha=10, normalize=True)\n",
    "ridge_reg_10.fit(X_train, y_train.values.ravel())\n",
    "\n",
    "y_pred = ridge_reg_10.predict(X_test)\n",
    "\n",
    "rmspe(y_test.values.ravel(), y_pred)"
   ]
  },
  {
   "cell_type": "code",
   "execution_count": 166,
   "metadata": {},
   "outputs": [
    {
     "name": "stderr",
     "output_type": "stream",
     "text": [
      "D:\\Anaconda3\\lib\\site-packages\\sklearn\\linear_model\\coordinate_descent.py:491: ConvergenceWarning: Objective did not converge. You might want to increase the number of iterations. Fitting data with very small alpha may cause precision problems.\n",
      "  ConvergenceWarning)\n"
     ]
    },
    {
     "data": {
      "text/plain": [
       "0.3578801810082475"
      ]
     },
     "execution_count": 166,
     "metadata": {},
     "output_type": "execute_result"
    }
   ],
   "source": [
    "# Lasso Regression with alpha 0.05\n",
    "\n",
    "lasso_reg_05 = Lasso(alpha=0.05, normalize=False)\n",
    "lasso_reg_05.fit(X_train, y_train.values.ravel())\n",
    "\n",
    "y_pred = lasso_reg_05.predict(X_test)\n",
    "\n",
    "rmspe(y_test.values.ravel(), y_pred)\n"
   ]
  },
  {
   "cell_type": "code",
   "execution_count": 167,
   "metadata": {},
   "outputs": [
    {
     "name": "stderr",
     "output_type": "stream",
     "text": [
      "D:\\Anaconda3\\lib\\site-packages\\sklearn\\linear_model\\coordinate_descent.py:491: ConvergenceWarning: Objective did not converge. You might want to increase the number of iterations. Fitting data with very small alpha may cause precision problems.\n",
      "  ConvergenceWarning)\n"
     ]
    },
    {
     "data": {
      "text/plain": [
       "0.357768042153542"
      ]
     },
     "execution_count": 167,
     "metadata": {},
     "output_type": "execute_result"
    }
   ],
   "source": [
    "# Lasso Regression with alpha 1\n",
    "\n",
    "lasso_reg_1 = Lasso(alpha=1, normalize=False)\n",
    "lasso_reg_1.fit(X_train, y_train.values.ravel())\n",
    "\n",
    "y_pred = lasso_reg_1.predict(X_test)\n",
    "\n",
    "rmspe(y_test.values.ravel(), y_pred)\n"
   ]
  },
  {
   "cell_type": "code",
   "execution_count": 168,
   "metadata": {},
   "outputs": [
    {
     "data": {
      "text/plain": [
       "0.3584050987641705"
      ]
     },
     "execution_count": 168,
     "metadata": {},
     "output_type": "execute_result"
    }
   ],
   "source": [
    "# Lasso Regression with alpha 10\n",
    "\n",
    "lasso_reg_10 = Lasso(alpha=10, normalize=False)\n",
    "lasso_reg_10.fit(X_train, y_train.values.ravel())\n",
    "\n",
    "y_pred = lasso_reg_10.predict(X_test)\n",
    "\n",
    "rmspe(y_test.values.ravel(), y_pred)\n"
   ]
  },
  {
   "cell_type": "code",
   "execution_count": 170,
   "metadata": {},
   "outputs": [
    {
     "data": {
      "text/plain": [
       "0.3580386145978764"
      ]
     },
     "execution_count": 170,
     "metadata": {},
     "output_type": "execute_result"
    }
   ],
   "source": [
    "# Elastic Net Regression with alpha 0.05\n",
    "\n",
    "EN_reg_05 = ElasticNet(alpha=0.05, l1_ratio=0.5, normalize=False)\n",
    "EN_reg_05.fit(X_train, y_train.values.ravel())\n",
    "\n",
    "y_pred = EN_reg_05.predict(X_test)\n",
    "\n",
    "rmspe(y_test.values.ravel(), y_pred)"
   ]
  },
  {
   "cell_type": "code",
   "execution_count": 171,
   "metadata": {},
   "outputs": [
    {
     "data": {
      "text/plain": [
       "0.3768120789210284"
      ]
     },
     "execution_count": 171,
     "metadata": {},
     "output_type": "execute_result"
    }
   ],
   "source": [
    "# Elastic Net Regression with alpha 1\n",
    "\n",
    "EN_reg_1 = ElasticNet(alpha=1, l1_ratio=0.5, normalize=False)\n",
    "EN_reg_1.fit(X_train, y_train.values.ravel())\n",
    "\n",
    "y_pred = EN_reg_1.predict(X_test)\n",
    "\n",
    "rmspe(y_test.values.ravel(), y_pred)"
   ]
  },
  {
   "cell_type": "code",
   "execution_count": 172,
   "metadata": {},
   "outputs": [
    {
     "data": {
      "text/plain": [
       "0.4003992067081737"
      ]
     },
     "execution_count": 172,
     "metadata": {},
     "output_type": "execute_result"
    }
   ],
   "source": [
    "# Elastic Net Regression with alpha 10\n",
    "\n",
    "EN_reg_10 = ElasticNet(alpha=10, l1_ratio=0.5, normalize=False)\n",
    "EN_reg_10.fit(X_train, y_train.values.ravel())\n",
    "\n",
    "y_pred = EN_reg_10.predict(X_test)\n",
    "\n",
    "rmspe(y_test.values.ravel(), y_pred)"
   ]
  },
  {
   "cell_type": "markdown",
   "metadata": {},
   "source": [
    "## Ensemble method"
   ]
  },
  {
   "cell_type": "code",
   "execution_count": 173,
   "metadata": {},
   "outputs": [],
   "source": [
    "from sklearn.ensemble import ExtraTreesRegressor\n",
    "from sklearn.ensemble import RandomForestRegressor\n",
    "from sklearn.tree import DecisionTreeRegressor\n",
    "from sklearn.ensemble import AdaBoostRegressor"
   ]
  },
  {
   "cell_type": "code",
   "execution_count": 174,
   "metadata": {},
   "outputs": [
    {
     "data": {
      "text/plain": [
       "0.2490201203170259"
      ]
     },
     "execution_count": 174,
     "metadata": {},
     "output_type": "execute_result"
    }
   ],
   "source": [
    "#Extra Tree Regressor\n",
    "model_ET = ExtraTreesRegressor(n_jobs = -1, n_estimators = 10)\n",
    "model_ET.fit(X_train, y_train.values.ravel())\n",
    "\n",
    "y_pred = model_ET.predict(X_test)\n",
    "\n",
    "rmspe(y_test.values.ravel(), y_pred)"
   ]
  },
  {
   "cell_type": "code",
   "execution_count": 175,
   "metadata": {},
   "outputs": [
    {
     "data": {
      "text/plain": [
       "0.3820557254306466"
      ]
     },
     "execution_count": 175,
     "metadata": {},
     "output_type": "execute_result"
    }
   ],
   "source": [
    "#Random Forest Regressor with max depth = 3\n",
    "model_RF_3 = RandomForestRegressor(max_depth=3, n_estimators=10, random_state=0)\n",
    "model_RF_3.fit(X_train, y_train.values.ravel())\n",
    "\n",
    "y_pred = model_RF_3.predict(X_test)\n",
    "\n",
    "rmspe(y_test.values.ravel(), y_pred)"
   ]
  },
  {
   "cell_type": "code",
   "execution_count": 176,
   "metadata": {},
   "outputs": [
    {
     "data": {
      "text/plain": [
       "0.19712882347043972"
      ]
     },
     "execution_count": 176,
     "metadata": {},
     "output_type": "execute_result"
    }
   ],
   "source": [
    "#Random Forest Regressor\n",
    "model_RF = RandomForestRegressor(n_jobs = -1, n_estimators=10)\n",
    "model_RF.fit(X_train, y_train.values.ravel())\n",
    "\n",
    "y_pred = model_RF.predict(X_test)\n",
    "\n",
    "rmspe(y_test.values.ravel(), y_pred)"
   ]
  },
  {
   "cell_type": "code",
   "execution_count": 177,
   "metadata": {},
   "outputs": [
    {
     "data": {
      "text/plain": [
       "0.19382541171583267"
      ]
     },
     "execution_count": 177,
     "metadata": {},
     "output_type": "execute_result"
    }
   ],
   "source": [
    "#Ada Boost Regressor\n",
    "model_AB = AdaBoostRegressor(DecisionTreeRegressor(), n_estimators=10)\n",
    "model_AB.fit(X_train, y_train.values.ravel())\n",
    "\n",
    "y_pred = model_AB.predict(X_test)\n",
    "\n",
    "rmspe(y_test.values.ravel(), y_pred)"
   ]
  },
  {
   "cell_type": "markdown",
   "metadata": {},
   "source": [
    "## Model training with top 5 important features"
   ]
  },
  {
   "cell_type": "code",
   "execution_count": 178,
   "metadata": {},
   "outputs": [],
   "source": [
    "# Select all important features.\n",
    "train = train[train[\"Open\"] != 0]\n",
    "pre_train = train[(train['Date'].dt.year <= 2015) & (train['Date'].dt.month < 7)]\n",
    "pre_test = train[(train['Date'].dt.year >= 2015) & (train['Date'].dt.month >= 7)]\n",
    "\n",
    "X_train = pre_train[['Store', 'CompetitionDistance', 'Promo', 'DayOfWeek', 'StoreType' ]]\n",
    "X_test = pre_test[['Store', 'CompetitionDistance', 'Promo', 'DayOfWeek', 'StoreType' ]]\n",
    "\n",
    "y_train = pre_train[['Sales']]\n",
    "y_test = pre_test[['Sales']]"
   ]
  },
  {
   "cell_type": "markdown",
   "metadata": {},
   "source": [
    "## Linear regression"
   ]
  },
  {
   "cell_type": "code",
   "execution_count": 179,
   "metadata": {},
   "outputs": [
    {
     "data": {
      "text/plain": [
       "0.3959807605492311"
      ]
     },
     "execution_count": 179,
     "metadata": {},
     "output_type": "execute_result"
    }
   ],
   "source": [
    "# The Polynomial linear model with degree = 1 is the same as simple linear regression\n",
    "\n",
    "polynomial_features = PolynomialFeatures(degree=1,\n",
    "                                             include_bias=False)\n",
    "linear_regression = LinearRegression()\n",
    "pipeline = Pipeline([(\"polynomial_features\", polynomial_features),\n",
    "                     (\"linear_regression\", linear_regression)])\n",
    "pipeline.fit(X_train, y_train.values.ravel())\n",
    "\n",
    "y_pred = pipeline.predict(X_test)\n",
    "\n",
    "rmspe(y_test.values.ravel(), y_pred)"
   ]
  },
  {
   "cell_type": "code",
   "execution_count": 180,
   "metadata": {},
   "outputs": [
    {
     "data": {
      "text/plain": [
       "0.3928170951322243"
      ]
     },
     "execution_count": 180,
     "metadata": {},
     "output_type": "execute_result"
    }
   ],
   "source": [
    "# The Polynomial linear model with degree = 2\n",
    "polynomial_features = PolynomialFeatures(degree=2,\n",
    "                                             include_bias=False)\n",
    "linear_regression = LinearRegression()\n",
    "pipeline = Pipeline([(\"polynomial_features\", polynomial_features),\n",
    "                     (\"linear_regression\", linear_regression)])\n",
    "pipeline.fit(X_train, y_train.values.ravel())\n",
    "\n",
    "y_pred = pipeline.predict(X_test)\n",
    "\n",
    "rmspe(y_test.values.ravel(), y_pred)"
   ]
  },
  {
   "cell_type": "code",
   "execution_count": 181,
   "metadata": {},
   "outputs": [
    {
     "data": {
      "text/plain": [
       "0.38414154736488937"
      ]
     },
     "execution_count": 181,
     "metadata": {},
     "output_type": "execute_result"
    }
   ],
   "source": [
    "# The Polynomial linear model with degree = 3\n",
    "polynomial_features = PolynomialFeatures(degree=3,\n",
    "                                             include_bias=False)\n",
    "linear_regression = LinearRegression()\n",
    "pipeline = Pipeline([(\"polynomial_features\", polynomial_features),\n",
    "                     (\"linear_regression\", linear_regression)])\n",
    "pipeline.fit(X_train, y_train.values.ravel())\n",
    "\n",
    "y_pred = pipeline.predict(X_test)\n",
    "\n",
    "rmspe(y_test.values.ravel(), y_pred)"
   ]
  },
  {
   "cell_type": "code",
   "execution_count": 182,
   "metadata": {},
   "outputs": [
    {
     "data": {
      "text/plain": [
       "0.3959807533325875"
      ]
     },
     "execution_count": 182,
     "metadata": {},
     "output_type": "execute_result"
    }
   ],
   "source": [
    "# Ridge Regression with alpha 0.05\n",
    "\n",
    "ridge_reg2 = Ridge(alpha=0.05, normalize=False)\n",
    "ridge_reg2.fit(X_train, y_train.values.ravel())\n",
    "\n",
    "y_pred = ridge_reg2.predict(X_test)\n",
    "\n",
    "rmspe(y_test.values.ravel(), y_pred)"
   ]
  },
  {
   "cell_type": "code",
   "execution_count": 183,
   "metadata": {},
   "outputs": [
    {
     "data": {
      "text/plain": [
       "0.3959806162210278"
      ]
     },
     "execution_count": 183,
     "metadata": {},
     "output_type": "execute_result"
    }
   ],
   "source": [
    "# Ridge Regression with alpha 1\n",
    "\n",
    "ridge_reg2_1 = Ridge(alpha=1, normalize=False)\n",
    "ridge_reg2_1.fit(X_train, y_train.values.ravel())\n",
    "\n",
    "y_pred = ridge_reg2_1.predict(X_test)\n",
    "\n",
    "rmspe(y_test.values.ravel(), y_pred)"
   ]
  },
  {
   "cell_type": "code",
   "execution_count": 184,
   "metadata": {},
   "outputs": [
    {
     "data": {
      "text/plain": [
       "0.4194546692831167"
      ]
     },
     "execution_count": 184,
     "metadata": {},
     "output_type": "execute_result"
    }
   ],
   "source": [
    "# Ridge Regression with alpha 10\n",
    "\n",
    "ridge_reg2_10 = Ridge(alpha=10, normalize=True)\n",
    "ridge_reg2_10.fit(X_train, y_train.values.ravel())\n",
    "\n",
    "y_pred = ridge_reg2_10.predict(X_test)\n",
    "\n",
    "rmspe(y_test.values.ravel(), y_pred)"
   ]
  },
  {
   "cell_type": "code",
   "execution_count": 185,
   "metadata": {},
   "outputs": [
    {
     "data": {
      "text/plain": [
       "0.39597931074121356"
      ]
     },
     "execution_count": 185,
     "metadata": {},
     "output_type": "execute_result"
    }
   ],
   "source": [
    "# Lasso Regression with alpha 0.05\n",
    "\n",
    "lasso_reg2_05 = Lasso(alpha=0.05, normalize=False)\n",
    "lasso_reg2_05.fit(X_train, y_train.values.ravel())\n",
    "\n",
    "y_pred = lasso_reg2_05.predict(X_test)\n",
    "\n",
    "rmspe(y_test.values.ravel(), y_pred)\n"
   ]
  },
  {
   "cell_type": "code",
   "execution_count": 186,
   "metadata": {},
   "outputs": [
    {
     "data": {
      "text/plain": [
       "0.3959519440535054"
      ]
     },
     "execution_count": 186,
     "metadata": {},
     "output_type": "execute_result"
    }
   ],
   "source": [
    "# Lasso Regression with alpha 1\n",
    "\n",
    "lasso_reg2_1 = Lasso(alpha=1, normalize=False)\n",
    "lasso_reg2_1.fit(X_train, y_train.values.ravel())\n",
    "\n",
    "y_pred = lasso_reg2_1.predict(X_test)\n",
    "\n",
    "rmspe(y_test.values.ravel(), y_pred)\n"
   ]
  },
  {
   "cell_type": "code",
   "execution_count": 187,
   "metadata": {},
   "outputs": [
    {
     "data": {
      "text/plain": [
       "0.39570970364913893"
      ]
     },
     "execution_count": 187,
     "metadata": {},
     "output_type": "execute_result"
    }
   ],
   "source": [
    "# Lasso Regression with alpha 10\n",
    "\n",
    "lasso_reg2_10 = Lasso(alpha=10, normalize=False)\n",
    "lasso_reg2_10.fit(X_train, y_train.values.ravel())\n",
    "\n",
    "y_pred = lasso_reg2_10.predict(X_test)\n",
    "\n",
    "rmspe(y_test.values.ravel(), y_pred)\n"
   ]
  },
  {
   "cell_type": "code",
   "execution_count": 188,
   "metadata": {},
   "outputs": [
    {
     "data": {
      "text/plain": [
       "0.394815091131475"
      ]
     },
     "execution_count": 188,
     "metadata": {},
     "output_type": "execute_result"
    }
   ],
   "source": [
    "# Elastic Net Regression with alpha 0.05\n",
    "\n",
    "EN_reg2_05 = ElasticNet(alpha=0.05, l1_ratio=0.5, normalize=False)\n",
    "EN_reg2_05.fit(X_train, y_train.values.ravel())\n",
    "\n",
    "y_pred = EN_reg2_05.predict(X_test)\n",
    "\n",
    "rmspe(y_test.values.ravel(), y_pred)"
   ]
  },
  {
   "cell_type": "code",
   "execution_count": 189,
   "metadata": {},
   "outputs": [
    {
     "data": {
      "text/plain": [
       "0.4050289273604949"
      ]
     },
     "execution_count": 189,
     "metadata": {},
     "output_type": "execute_result"
    }
   ],
   "source": [
    "# Elastic Net Regression with alpha 1\n",
    "\n",
    "EN_reg2_1 = ElasticNet(alpha=1, l1_ratio=0.5, normalize=False)\n",
    "EN_reg2_1.fit(X_train, y_train.values.ravel())\n",
    "\n",
    "y_pred = EN_reg2_1.predict(X_test)\n",
    "\n",
    "rmspe(y_test.values.ravel(), y_pred)"
   ]
  },
  {
   "cell_type": "code",
   "execution_count": 190,
   "metadata": {},
   "outputs": [
    {
     "data": {
      "text/plain": [
       "0.42073698897236356"
      ]
     },
     "execution_count": 190,
     "metadata": {},
     "output_type": "execute_result"
    }
   ],
   "source": [
    "# Elastic Net Regression with alpha 10\n",
    "\n",
    "EN_reg2_10 = ElasticNet(alpha=10, l1_ratio=0.5, normalize=False)\n",
    "EN_reg2_10.fit(X_train, y_train.values.ravel())\n",
    "\n",
    "y_pred = EN_reg2_10.predict(X_test)\n",
    "\n",
    "rmspe(y_test.values.ravel(), y_pred)"
   ]
  },
  {
   "cell_type": "markdown",
   "metadata": {},
   "source": [
    "## Ensemble method"
   ]
  },
  {
   "cell_type": "code",
   "execution_count": 191,
   "metadata": {},
   "outputs": [
    {
     "data": {
      "text/plain": [
       "0.16391290928369787"
      ]
     },
     "execution_count": 191,
     "metadata": {},
     "output_type": "execute_result"
    }
   ],
   "source": [
    "#Extra Tree Regressor\n",
    "model_ET2 = ExtraTreesRegressor(n_jobs = -1, n_estimators = 10)\n",
    "model_ET2.fit(X_train, y_train.values.ravel())\n",
    "\n",
    "y_pred = model_ET2.predict(X_test)\n",
    "\n",
    "rmspe(y_test.values.ravel(), y_pred)"
   ]
  },
  {
   "cell_type": "code",
   "execution_count": 193,
   "metadata": {},
   "outputs": [
    {
     "data": {
      "text/plain": [
       "0.3891467625582601"
      ]
     },
     "execution_count": 193,
     "metadata": {},
     "output_type": "execute_result"
    }
   ],
   "source": [
    "#Random Forest Regressor with max depth = 3\n",
    "model_RF2_3 = RandomForestRegressor(max_depth=3, n_estimators=10, random_state=0)\n",
    "model_RF2_3.fit(X_train, y_train.values.ravel())\n",
    "\n",
    "y_pred = model_RF2_3.predict(X_test)\n",
    "\n",
    "rmspe(y_test.values.ravel(), y_pred)"
   ]
  },
  {
   "cell_type": "code",
   "execution_count": 194,
   "metadata": {},
   "outputs": [
    {
     "data": {
      "text/plain": [
       "0.1642898943200055"
      ]
     },
     "execution_count": 194,
     "metadata": {},
     "output_type": "execute_result"
    }
   ],
   "source": [
    "#Random Forest Regressor\n",
    "model_RF2 = RandomForestRegressor(n_jobs = -1, n_estimators = 10)\n",
    "model_RF2.fit(X_train, y_train.values.ravel())\n",
    "\n",
    "y_pred = model_RF2.predict(X_test)\n",
    "\n",
    "rmspe(y_test.values.ravel(), y_pred)"
   ]
  },
  {
   "cell_type": "code",
   "execution_count": 195,
   "metadata": {},
   "outputs": [
    {
     "data": {
      "text/plain": [
       "0.1643298966033227"
      ]
     },
     "execution_count": 195,
     "metadata": {},
     "output_type": "execute_result"
    }
   ],
   "source": [
    "#Ada Boost Regressor\n",
    "model_AB2 = AdaBoostRegressor(DecisionTreeRegressor(), n_estimators=10)\n",
    "model_AB2.fit(X_train, y_train.values.ravel())\n",
    "\n",
    "y_pred = model_AB2.predict(X_test)\n",
    "\n",
    "rmspe(y_test.values.ravel(), y_pred)"
   ]
  },
  {
   "cell_type": "markdown",
   "metadata": {},
   "source": [
    "So we will use random forest algorithm with top 5 features to predict the test data."
   ]
  },
  {
   "cell_type": "markdown",
   "metadata": {},
   "source": [
    "# Predicting test data"
   ]
  },
  {
   "cell_type": "markdown",
   "metadata": {},
   "source": [
    "## Data preparing"
   ]
  },
  {
   "cell_type": "code",
   "execution_count": 135,
   "metadata": {},
   "outputs": [],
   "source": [
    "test = pd.merge(test, store, on='Store')\n",
    "test.loc[test.Open.isnull(), 'Open'] = '1'"
   ]
  },
  {
   "cell_type": "code",
   "execution_count": 136,
   "metadata": {},
   "outputs": [],
   "source": [
    "test.CompetitionDistance.fillna(0, inplace=True)"
   ]
  },
  {
   "cell_type": "code",
   "execution_count": 137,
   "metadata": {},
   "outputs": [],
   "source": [
    "# Transform category values to be integer value\n",
    "\n",
    "test.loc[test['StoreType'] == 'a', 'StoreType'] = '1'\n",
    "test.loc[test['StoreType'] == 'b', 'StoreType'] = '2'\n",
    "test.loc[test['StoreType'] == 'c', 'StoreType'] = '3'\n",
    "test.loc[test['StoreType'] == 'd', 'StoreType'] = '4'\n",
    "test['StoreType'] = test['StoreType'].astype(int)"
   ]
  },
  {
   "cell_type": "code",
   "execution_count": 138,
   "metadata": {},
   "outputs": [],
   "source": [
    "test_data = test[['Store', 'CompetitionDistance', 'Promo', 'DayOfWeek', 'StoreType' ]]"
   ]
  },
  {
   "cell_type": "code",
   "execution_count": 139,
   "metadata": {},
   "outputs": [
    {
     "data": {
      "text/html": [
       "<div>\n",
       "<style scoped>\n",
       "    .dataframe tbody tr th:only-of-type {\n",
       "        vertical-align: middle;\n",
       "    }\n",
       "\n",
       "    .dataframe tbody tr th {\n",
       "        vertical-align: top;\n",
       "    }\n",
       "\n",
       "    .dataframe thead th {\n",
       "        text-align: right;\n",
       "    }\n",
       "</style>\n",
       "<table border=\"1\" class=\"dataframe\">\n",
       "  <thead>\n",
       "    <tr style=\"text-align: right;\">\n",
       "      <th></th>\n",
       "      <th>Store</th>\n",
       "      <th>CompetitionDistance</th>\n",
       "      <th>Promo</th>\n",
       "      <th>DayOfWeek</th>\n",
       "      <th>StoreType</th>\n",
       "    </tr>\n",
       "  </thead>\n",
       "  <tbody>\n",
       "    <tr>\n",
       "      <th>0</th>\n",
       "      <td>1</td>\n",
       "      <td>1270.000000</td>\n",
       "      <td>1</td>\n",
       "      <td>4</td>\n",
       "      <td>3</td>\n",
       "    </tr>\n",
       "    <tr>\n",
       "      <th>1</th>\n",
       "      <td>1</td>\n",
       "      <td>1270.000000</td>\n",
       "      <td>1</td>\n",
       "      <td>3</td>\n",
       "      <td>3</td>\n",
       "    </tr>\n",
       "    <tr>\n",
       "      <th>2</th>\n",
       "      <td>1</td>\n",
       "      <td>1270.000000</td>\n",
       "      <td>1</td>\n",
       "      <td>2</td>\n",
       "      <td>3</td>\n",
       "    </tr>\n",
       "    <tr>\n",
       "      <th>3</th>\n",
       "      <td>1</td>\n",
       "      <td>1270.000000</td>\n",
       "      <td>1</td>\n",
       "      <td>1</td>\n",
       "      <td>3</td>\n",
       "    </tr>\n",
       "    <tr>\n",
       "      <th>4</th>\n",
       "      <td>1</td>\n",
       "      <td>1270.000000</td>\n",
       "      <td>0</td>\n",
       "      <td>7</td>\n",
       "      <td>3</td>\n",
       "    </tr>\n",
       "  </tbody>\n",
       "</table>\n",
       "</div>"
      ],
      "text/plain": [
       "   Store  CompetitionDistance Promo DayOfWeek  StoreType\n",
       "0      1          1270.000000     1         4          3\n",
       "1      1          1270.000000     1         3          3\n",
       "2      1          1270.000000     1         2          3\n",
       "3      1          1270.000000     1         1          3\n",
       "4      1          1270.000000     0         7          3"
      ]
     },
     "execution_count": 139,
     "metadata": {},
     "output_type": "execute_result"
    }
   ],
   "source": [
    "test_data.head()"
   ]
  },
  {
   "cell_type": "markdown",
   "metadata": {},
   "source": [
    "## Prediction"
   ]
  },
  {
   "cell_type": "code",
   "execution_count": 198,
   "metadata": {},
   "outputs": [],
   "source": [
    "test_y_pred = model_RF2.predict(test_data)"
   ]
  },
  {
   "cell_type": "code",
   "execution_count": 199,
   "metadata": {},
   "outputs": [],
   "source": [
    "test['Sales'] = test_y_pred"
   ]
  },
  {
   "cell_type": "code",
   "execution_count": 200,
   "metadata": {},
   "outputs": [
    {
     "data": {
      "text/html": [
       "<div>\n",
       "<style scoped>\n",
       "    .dataframe tbody tr th:only-of-type {\n",
       "        vertical-align: middle;\n",
       "    }\n",
       "\n",
       "    .dataframe tbody tr th {\n",
       "        vertical-align: top;\n",
       "    }\n",
       "\n",
       "    .dataframe thead th {\n",
       "        text-align: right;\n",
       "    }\n",
       "</style>\n",
       "<table border=\"1\" class=\"dataframe\">\n",
       "  <thead>\n",
       "    <tr style=\"text-align: right;\">\n",
       "      <th></th>\n",
       "      <th>Id</th>\n",
       "      <th>Store</th>\n",
       "      <th>DayOfWeek</th>\n",
       "      <th>Date</th>\n",
       "      <th>Open</th>\n",
       "      <th>Promo</th>\n",
       "      <th>StateHoliday</th>\n",
       "      <th>SchoolHoliday</th>\n",
       "      <th>Sales</th>\n",
       "    </tr>\n",
       "  </thead>\n",
       "  <tbody>\n",
       "    <tr>\n",
       "      <th>0</th>\n",
       "      <td>1</td>\n",
       "      <td>1</td>\n",
       "      <td>4</td>\n",
       "      <td>2015-09-17</td>\n",
       "      <td>1</td>\n",
       "      <td>1</td>\n",
       "      <td>0</td>\n",
       "      <td>0</td>\n",
       "      <td>4868.950572</td>\n",
       "    </tr>\n",
       "    <tr>\n",
       "      <th>1</th>\n",
       "      <td>2</td>\n",
       "      <td>3</td>\n",
       "      <td>4</td>\n",
       "      <td>2015-09-17</td>\n",
       "      <td>1</td>\n",
       "      <td>1</td>\n",
       "      <td>0</td>\n",
       "      <td>0</td>\n",
       "      <td>5077.300763</td>\n",
       "    </tr>\n",
       "    <tr>\n",
       "      <th>2</th>\n",
       "      <td>3</td>\n",
       "      <td>7</td>\n",
       "      <td>4</td>\n",
       "      <td>2015-09-17</td>\n",
       "      <td>1</td>\n",
       "      <td>1</td>\n",
       "      <td>0</td>\n",
       "      <td>0</td>\n",
       "      <td>5367.862856</td>\n",
       "    </tr>\n",
       "    <tr>\n",
       "      <th>3</th>\n",
       "      <td>4</td>\n",
       "      <td>8</td>\n",
       "      <td>4</td>\n",
       "      <td>2015-09-17</td>\n",
       "      <td>1</td>\n",
       "      <td>1</td>\n",
       "      <td>0</td>\n",
       "      <td>0</td>\n",
       "      <td>5883.651148</td>\n",
       "    </tr>\n",
       "    <tr>\n",
       "      <th>4</th>\n",
       "      <td>5</td>\n",
       "      <td>9</td>\n",
       "      <td>4</td>\n",
       "      <td>2015-09-17</td>\n",
       "      <td>1</td>\n",
       "      <td>1</td>\n",
       "      <td>0</td>\n",
       "      <td>0</td>\n",
       "      <td>4763.917618</td>\n",
       "    </tr>\n",
       "  </tbody>\n",
       "</table>\n",
       "</div>"
      ],
      "text/plain": [
       "   Id  Store DayOfWeek       Date Open Promo StateHoliday SchoolHoliday  \\\n",
       "0   1      1         4 2015-09-17    1     1            0             0   \n",
       "1   2      3         4 2015-09-17    1     1            0             0   \n",
       "2   3      7         4 2015-09-17    1     1            0             0   \n",
       "3   4      8         4 2015-09-17    1     1            0             0   \n",
       "4   5      9         4 2015-09-17    1     1            0             0   \n",
       "\n",
       "        Sales  \n",
       "0 4868.950572  \n",
       "1 5077.300763  \n",
       "2 5367.862856  \n",
       "3 5883.651148  \n",
       "4 4763.917618  "
      ]
     },
     "execution_count": 200,
     "metadata": {},
     "output_type": "execute_result"
    }
   ],
   "source": [
    "test.head()"
   ]
  },
  {
   "cell_type": "code",
   "execution_count": 201,
   "metadata": {},
   "outputs": [
    {
     "data": {
      "image/png": "[encoded data removed]",
      "text/plain": [
       "<matplotlib.figure.Figure at 0x1b8e875b7f0>"
      ]
     },
     "metadata": {},
     "output_type": "display_data"
    }
   ],
   "source": [
    "# The red line is the sales trend from test data, a.k.a. sales forecasting\n",
    "\n",
    "sales_store3 = train[['Date','Sales']][(train['Store'] == 3) & (train['Open'] == '1')]\n",
    "sales_store3_predict = test[['Date','Sales']][test['Store'] == 3]\n",
    "\n",
    "plt.figure(figsize=(12, 8))\n",
    "plt.plot(pd.to_datetime(sales_store3.Date), sales_store3.Sales, '-b', label='Historical sales')\n",
    "plt.plot(pd.to_datetime(sales_store3_predict.Date), sales_store3_predict.Sales, '--r', label='Forecasted sales')\n",
    "\n",
    "plt.ylabel('Sales')\n",
    "plt.xlabel('Date')\n",
    "plt.legend(bbox_to_anchor=(1.05, 1), loc=2, borderaxespad=0.)\n",
    "plt.xticks(rotation=90)\n",
    "plt.title('Historical sales of store 3 and its sales prediction')\n",
    "plt.show()"
   ]
  },
  {
   "cell_type": "code",
   "execution_count": 202,
   "metadata": {},
   "outputs": [
    {
     "data": {
      "image/png": "[encoded data removed]",
      "text/plain": [
       "<matplotlib.figure.Figure at 0x1b890231be0>"
      ]
     },
     "metadata": {},
     "output_type": "display_data"
    }
   ],
   "source": [
    "# The yellow line is the sales trend from test data, a.k.a. sales forecasting\n",
    "\n",
    "saleAndDate = train[['Sales','Date']][train['Sales'] != 0]\n",
    "saleByMonth2013 = saleAndDate[saleAndDate['Date'].dt.year == 2013].groupby(saleAndDate['Date'].dt.strftime('%m'))['Sales'].mean().sort_index(level=\"Date\", ascending=True)\n",
    "saleByMonth2014 = saleAndDate[saleAndDate['Date'].dt.year == 2014].groupby(saleAndDate['Date'].dt.strftime('%m'))['Sales'].mean().sort_index(level=\"Date\", ascending=True)\n",
    "saleByMonth2015 = saleAndDate[saleAndDate['Date'].dt.year == 2015].groupby(saleAndDate['Date'].dt.strftime('%m'))['Sales'].mean().sort_index(level=\"Date\", ascending=True)\n",
    "saleByMonth2015_test = test.groupby(test['Date'].dt.strftime('%m'))['Sales'].mean().sort_index(level=\"Date\", ascending=True)\n",
    "saleByMonth2015_predict = saleByMonth2015.append(saleByMonth2015_test)\n",
    "\n",
    "\n",
    "plt.plot(saleByMonth2013.keys(), (saleByMonth2013 / np.mean(saleByMonth2013)) * 100, '-g', label = '2013')\n",
    "plt.plot(saleByMonth2014.keys(), (saleByMonth2014 / np.mean(saleByMonth2014)) * 100, '-r', label = '2014')\n",
    "plt.plot(saleByMonth2015.keys(), (saleByMonth2015 / np.mean(saleByMonth2015)) * 100, '-b', label = '2015')\n",
    "plt.plot(saleByMonth2015_predict.iloc[6:9].keys(), ((saleByMonth2015_predict / np.mean(saleByMonth2015_predict)) * 100)[6:9],\n",
    "'--y', label = '2015-predict')\n",
    "\n",
    "plt.xlabel('Month')\n",
    "plt.ylabel('Percent sales')\n",
    "plt.title('Sales by months with forecasting')\n",
    "plt.legend()\n",
    "plt.show()"
   ]
  },
  {
   "cell_type": "code",
   "execution_count": null,
   "metadata": {},
   "outputs": [],
   "source": []
  },
  {
   "cell_type": "code",
   "execution_count": null,
   "metadata": {},
   "outputs": [],
   "source": []
  }
 ],
 "metadata": {
  "kernelspec": {
   "display_name": "Python 3",
   "language": "python",
   "name": "python3"
  },
  "language_info": {
   "codemirror_mode": {
    "name": "ipython",
    "version": 3
   },
   "file_extension": ".py",
   "mimetype": "text/x-python",
   "name": "python",
   "nbconvert_exporter": "python",
   "pygments_lexer": "ipython3",
   "version": "3.6.4"
  }
 },
 "nbformat": 4,
 "nbformat_minor": 2
}
